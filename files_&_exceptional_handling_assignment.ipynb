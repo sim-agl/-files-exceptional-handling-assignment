{
  "nbformat": 4,
  "nbformat_minor": 0,
  "metadata": {
    "colab": {
      "provenance": []
    },
    "kernelspec": {
      "name": "python3",
      "display_name": "Python 3"
    },
    "language_info": {
      "name": "python"
    }
  },
  "cells": [
    {
      "cell_type": "markdown",
      "source": [
        "***Theoritical Questions:***"
      ],
      "metadata": {
        "id": "9BHxmTsx-B_q"
      }
    },
    {
      "cell_type": "markdown",
      "source": [
        "\n",
        "\n",
        "1. What is the difference between interpreted and compiled languages?\n",
        " - Interpreted languages (like Python) run code line-by-line using an interpreter.\n",
        "Compiled languages (like C++) convert the whole code to machine language before running it.\n",
        "\n",
        "2. What is exception handling in Python ?\n",
        " - Exception handling is a way to handle errors during program execution using try, except, finally, and raise.\n",
        "\n",
        "3. What is the purpose of the finally block in exception handling?\n",
        " - The finally block always runs, even if an error occurs. It's used to clean up resources like closing files or connections.\n",
        "\n",
        "4. What is logging in Python?\n",
        " - Logging records messages about a program's execution (info, warning, error, etc.) for debugging or tracking purposes.\n",
        "\n",
        "5. What is the significance of the __del__ method in Python?\n",
        " - __del__ is a destructor method. It is called when an object is deleted to free up resources.\n",
        "\n",
        "6. What is the difference between import and from ... import in Python?\n",
        " - import module imports the whole module.\n",
        "from module import func imports only a specific function/class.\n",
        "\n",
        "7. How can you handle multiple exceptions in Python?\n",
        " - Use multiple except blocks or combine exceptions like: except (ValueError, TypeError) as e:\n",
        "\n",
        "8. What is the purpose of the with statement when handling files in Python?\n",
        " - It's mostly beneficial. The only challenge might be less control if you need to keep the file open across blocks.\n",
        "\n",
        "9. What is the difference between multithreading and multiprocessing?\n",
        " - Multithreading runs threads within the same process (good for I/O tasks).\n",
        "Multiprocessing runs separate processes (better for CPU-bound tasks).\n",
        "\n",
        "10. What are the advantages of using logging in a program?\n",
        " - Helps in debugging, error tracking, and understanding the program flow    without printing everything to the console.\n",
        "\n",
        "11. What is memory management in Python?\n",
        " - Python automatically handles memory using reference counting and garbage collection.\n",
        "\n",
        "12. What are the basic steps involved in exception handling in Python?\n",
        " - Use try block to write risky code, except to catch errors, finally for cleanup, and optionally else if no error occurs.\n",
        "\n",
        "13. Why is memory management important in Python ?\n",
        " - It helps to avoid memory leaks and improves performance by freeing unused memory.\n",
        "\n",
        "14. What is the role of try and except in exception handling?\n",
        " - try runs the code that might cause an error.\n",
        "except handles the error if it occurs.\n",
        "\n",
        "15. How does Python's garbage collection system work?\n",
        " - It removes objects that are no longer used using reference counting and a cyclic garbage collector.\n",
        "\n",
        "16. What is the purpose of the else block in exception handling ?\n",
        " - else runs code only if the try block doesnt raise an exception.\n",
        "\n",
        "17. What are the common logging levels in Python?\n",
        " - DEBUG, INFO, WARNING, ERROR, CRITICAL\n",
        "\n",
        "18. What is the difference between os.fork() and multiprocessing in Python?\n",
        " - os.fork() is Unix-specific and manually creates a child process.\n",
        "multiprocessing is cross-platform and easier to use with better control.\n",
        "\n",
        "19. What is the importance of closing a file in Python\n",
        " - It frees system resources and ensures data is properly written.\n",
        "\n",
        "20. What is the difference between file.read() and file.readline() in Python\n",
        " - read() reads the whole file content.\n",
        "readline() reads one line at a time.\n",
        "\n",
        "21. What is the logging module in Python used for\n",
        " - It's used to track events during program execution for debugging or monitoring.\n",
        "\n",
        "22. What is the os module in Python used for in file handling?\n",
        " - It helps interact with the operating system, like renaming, deleting files, or navigating directories.\n",
        "\n",
        "23. What are the challenges associated with memory management in Python?\n",
        " - Issues like circular references, memory leaks, and improper object lifecycle can affect memory usage.\n",
        "\n",
        "24. How do you raise an exception manually in Python?\n",
        " - Use the raise keyword, like: raise ValueError(\"Invalid input\")\n",
        "\n",
        "25. Why is it important to use multithreading in certain applications?\n",
        " - It improves performance in I/O-bound tasks like downloading files or network communication.\n",
        "\n",
        "\n",
        "\n"
      ],
      "metadata": {
        "id": "v-dNuLRtgLct"
      }
    },
    {
      "cell_type": "markdown",
      "source": [
        "**Practical Questions:**"
      ],
      "metadata": {
        "id": "bQUMjWdf942E"
      }
    },
    {
      "cell_type": "markdown",
      "source": [
        "1. How can you open a file for writing in Python and write a string to it."
      ],
      "metadata": {
        "id": "gadCTVDjg9K6"
      }
    },
    {
      "cell_type": "code",
      "source": [
        "with open (\"my_file.txt\",\"w\") as f:\n",
        "  f.write(\"My first line in file\\nmy second line in file\\nmy third line in file\\nmy fourth line in file\\n\")\n"
      ],
      "metadata": {
        "id": "Tc9I9TXtBFs9"
      },
      "execution_count": 61,
      "outputs": []
    },
    {
      "cell_type": "markdown",
      "source": [
        "2. Write a Python program to read the contents of a file and print each line.\n"
      ],
      "metadata": {
        "id": "f-S9QsYmhFpB"
      }
    },
    {
      "cell_type": "code",
      "source": [
        "with open (\"my_file.txt\",\"r\") as f:\n",
        " line=f.read()\n",
        " print(line)"
      ],
      "metadata": {
        "colab": {
          "base_uri": "https://localhost:8080/"
        },
        "id": "GIBach8mJRuB",
        "outputId": "6a0bfd0a-9b4f-44d2-d027-a2f1be4aba43"
      },
      "execution_count": 62,
      "outputs": [
        {
          "output_type": "stream",
          "name": "stdout",
          "text": [
            "My first line in file\n",
            "my second line in file\n",
            "my third line in file\n",
            "my fourth line in file\n",
            "\n"
          ]
        }
      ]
    },
    {
      "cell_type": "markdown",
      "source": [
        "3. How would you handle a case where the file doesn't exist while trying to open it for reading."
      ],
      "metadata": {
        "id": "6Qu9q2FziDqQ"
      }
    },
    {
      "cell_type": "code",
      "source": [
        "try:\n",
        "    with open(\"xyz.txt\", \"r\") as f:\n",
        "        file = f.read()\n",
        "except FileNotFoundError as e:\n",
        "    print(\"Not found\",e)"
      ],
      "metadata": {
        "colab": {
          "base_uri": "https://localhost:8080/"
        },
        "id": "FJI01E_kkN-2",
        "outputId": "6c91c627-f051-4e9e-bd1b-3bbf86deff94"
      },
      "execution_count": 36,
      "outputs": [
        {
          "output_type": "stream",
          "name": "stdout",
          "text": [
            "Not found [Errno 2] No such file or directory: 'xyz.txt'\n"
          ]
        }
      ]
    },
    {
      "cell_type": "markdown",
      "source": [
        "4. Write a Python script that reads from one file and writes its content to another file\n"
      ],
      "metadata": {
        "id": "cGb-EVtciFqd"
      }
    },
    {
      "cell_type": "code",
      "source": [
        "text=(\"Python is a high-level, general-purpose, interpreted, and object-oriented programming language.\")\n",
        "with open(\"file_1.txt\", 'w') as f1:\n",
        "   f1.write(text)\n",
        "with open(\"file_1.txt\", 'r') as f1:\n",
        "   content = f1.read()\n",
        "\n",
        "with open(\"file_2.txt\", 'w') as f2:\n",
        "      f2.write(content)\n"
      ],
      "metadata": {
        "id": "eePuqjLvmyAm"
      },
      "execution_count": 37,
      "outputs": []
    },
    {
      "cell_type": "markdown",
      "source": [
        "5. How would you catch and handle division by zero error in Python."
      ],
      "metadata": {
        "id": "13PFRNxHiHWx"
      }
    },
    {
      "cell_type": "code",
      "source": [
        "a = 10\n",
        "b = 0\n",
        "\n",
        "try:\n",
        "    result = a / b\n",
        "except ZeroDivisionError as e:\n",
        "    print(\"Error: Cannot divide by zero.\", e)"
      ],
      "metadata": {
        "colab": {
          "base_uri": "https://localhost:8080/"
        },
        "id": "gycFeaWfDiNZ",
        "outputId": "422205f0-7e9d-48ed-b801-821e95c17651"
      },
      "execution_count": 38,
      "outputs": [
        {
          "output_type": "stream",
          "name": "stdout",
          "text": [
            "Error: Cannot divide by zero. division by zero\n"
          ]
        }
      ]
    },
    {
      "cell_type": "markdown",
      "source": [
        "6. Write a Python program that logs an error message to a log file when a division by zero exception occurs."
      ],
      "metadata": {
        "id": "LvmTynUgiJDK"
      }
    },
    {
      "cell_type": "code",
      "source": [
        "import logging\n",
        "logging.basicConfig(filename='div_by_zero.log', level=logging.ERROR, filemode='w', format='%(asctime)s - %(levelname)s - %(message)s')\n",
        "a = 10\n",
        "b = 0\n",
        "\n",
        "try:\n",
        "    result = a / b\n",
        "except ZeroDivisionError as e:\n",
        "    logging.error(\"Error: Cannot divide by zero.\", exc_info=True)\n"
      ],
      "metadata": {
        "colab": {
          "base_uri": "https://localhost:8080/"
        },
        "id": "H1K4YTMBfZWl",
        "outputId": "08771aec-0bb5-4dad-9b08-ff855ed439ff"
      },
      "execution_count": 39,
      "outputs": [
        {
          "output_type": "stream",
          "name": "stderr",
          "text": [
            "ERROR:root:Error: Cannot divide by zero.\n",
            "Traceback (most recent call last):\n",
            "  File \"/tmp/ipython-input-39-595223237.py\", line 7, in <cell line: 0>\n",
            "    result = a / b\n",
            "             ~~^~~\n",
            "ZeroDivisionError: division by zero\n"
          ]
        }
      ]
    },
    {
      "cell_type": "markdown",
      "source": [
        "7. How do you log information at different levels (INFO, ERROR, WARNING) in Python using the logging module."
      ],
      "metadata": {
        "id": "sljBtMmxiKz9"
      }
    },
    {
      "cell_type": "code",
      "source": [
        "import logging\n",
        "\n",
        "# Configure the basic logging setup\n",
        "logging.basicConfig(level=logging.INFO, format='%(asctime)s - %(levelname)s - %(message)s')\n",
        "\n",
        "# Log messages at different levels\n",
        "logging.debug(\"This is a debug message (won't be shown with INFO level).\")\n",
        "logging.info(\"Application started successfully.\")\n",
        "logging.warning(\"Potential issue: Disk space is running low.\")\n",
        "logging.error(\"Failed to connect to the database.\")\n",
        "logging.critical(\"Fatal error: System shutdown initiated.\")\n"
      ],
      "metadata": {
        "colab": {
          "base_uri": "https://localhost:8080/"
        },
        "id": "00BRZNDfxcah",
        "outputId": "c984b6a8-38e6-4599-fa17-85edf624ad87"
      },
      "execution_count": 40,
      "outputs": [
        {
          "output_type": "stream",
          "name": "stderr",
          "text": [
            "WARNING:root:Potential issue: Disk space is running low.\n",
            "ERROR:root:Failed to connect to the database.\n",
            "CRITICAL:root:Fatal error: System shutdown initiated.\n"
          ]
        }
      ]
    },
    {
      "cell_type": "markdown",
      "source": [
        "8. Write a program to handle a file opening error using exception handling\n"
      ],
      "metadata": {
        "id": "JjmtBiSyiMxR"
      }
    },
    {
      "cell_type": "code",
      "source": [
        "try:\n",
        "  with open (\"file_error.txt\",\"r\") as f:\n",
        "    file=f.read()\n",
        "except FileNotFoundError as e:\n",
        "   print(\"Not found\",e)"
      ],
      "metadata": {
        "colab": {
          "base_uri": "https://localhost:8080/"
        },
        "id": "lBwoJXULynV5",
        "outputId": "024e47a9-0ce8-4bf0-8719-e84e295d2668"
      },
      "execution_count": 41,
      "outputs": [
        {
          "output_type": "stream",
          "name": "stdout",
          "text": [
            "Not found [Errno 2] No such file or directory: 'file_error.txt'\n"
          ]
        }
      ]
    },
    {
      "cell_type": "markdown",
      "source": [
        "9. How can you read a file line by line and store its content in a list in Python\n"
      ],
      "metadata": {
        "id": "3ZH9DPhHiOp4"
      }
    },
    {
      "cell_type": "code",
      "source": [
        "with open (\"my_file.txt\",\"r\") as f:\n",
        "  lines=f.read()\n",
        "print(lines)\n",
        "lines=[]\n",
        "with open (\"my_file.txt\",\"r\") as f:\n",
        "  for line in f:\n",
        "    lines.append(line)\n",
        "print(lines)"
      ],
      "metadata": {
        "colab": {
          "base_uri": "https://localhost:8080/"
        },
        "id": "VsvSC2OHzvD3",
        "outputId": "2a43079d-ef21-4b12-cf70-50ba9c8b022d"
      },
      "execution_count": 63,
      "outputs": [
        {
          "output_type": "stream",
          "name": "stdout",
          "text": [
            "My first line in file\n",
            "my second line in file\n",
            "my third line in file\n",
            "my fourth line in file\n",
            "\n",
            "['My first line in file\\n', 'my second line in file\\n', 'my third line in file\\n', 'my fourth line in file\\n']\n"
          ]
        }
      ]
    },
    {
      "cell_type": "markdown",
      "source": [
        "10. How can you append data to an existing file in Python\n"
      ],
      "metadata": {
        "id": "nYrqDckZiQci"
      }
    },
    {
      "cell_type": "code",
      "source": [
        "with open (\"my_file.txt\",\"a\") as f:\n",
        "  f.write(\"my fifth line in file\\n\")\n",
        "with open (\"my_file.txt\",\"r\") as f:\n",
        "  lines=f.read()\n",
        "print(lines)"
      ],
      "metadata": {
        "colab": {
          "base_uri": "https://localhost:8080/"
        },
        "id": "NUGvZ0jy0SEB",
        "outputId": "5b17075c-9b9d-4925-c936-7da77c639141"
      },
      "execution_count": 65,
      "outputs": [
        {
          "output_type": "stream",
          "name": "stdout",
          "text": [
            "My first line in file\n",
            "my second line in file\n",
            "my third line in file\n",
            "my fourth line in file\n",
            "my fifth line in file\n",
            "my fifth line in file\n",
            "\n"
          ]
        }
      ]
    },
    {
      "cell_type": "markdown",
      "source": [
        "11. Write a Python program that uses a try-except block to handle an error when attempting to access a dictionary key that doesn't exist\n"
      ],
      "metadata": {
        "id": "cWkThhZMiSA0"
      }
    },
    {
      "cell_type": "code",
      "source": [
        "dict_1 = {\"name\": \"simran\", \"age\": 24, \"city\": \"lucknow\"}\n",
        "try:\n",
        "    print(dict_1[\"country\"])\n",
        "except KeyError as e:\n",
        "    print(\"Error: key not found\", e)"
      ],
      "metadata": {
        "colab": {
          "base_uri": "https://localhost:8080/"
        },
        "id": "DWDl943O7KrU",
        "outputId": "a376e099-311d-4d0f-dabc-8502e144e151"
      },
      "execution_count": 44,
      "outputs": [
        {
          "output_type": "stream",
          "name": "stdout",
          "text": [
            "Error: key not found 'country'\n"
          ]
        }
      ]
    },
    {
      "cell_type": "markdown",
      "source": [
        "12. Write a program that demonstrates using multiple except blocks to handle different types of exceptions\n"
      ],
      "metadata": {
        "id": "B4RLoq92iT__"
      }
    },
    {
      "cell_type": "code",
      "source": [
        "try:\n",
        "    numerator = int(input(\"Enter a number to divide by: \"))\n",
        "    denominator = int(input(\"Enter a number to divide by: \"))\n",
        "    result = numerator / denominator\n",
        "    print(\"Result:\", result)\n",
        "except ZeroDivisionError:\n",
        "    print(\"Error: Cannot divide by zero.\")\n",
        "except ValueError:\n",
        "    print(\"Error: Invalid input. Please enter valid numbers.\")\n",
        "except Exception as e:\n",
        "    print(\"An unexpected error occurred:\", e)"
      ],
      "metadata": {
        "colab": {
          "base_uri": "https://localhost:8080/"
        },
        "id": "WSCLVFPt_ze8",
        "outputId": "835cfc43-18ee-47c9-d36d-dc05ad2e044a"
      },
      "execution_count": 45,
      "outputs": [
        {
          "output_type": "stream",
          "name": "stdout",
          "text": [
            "Enter a number to divide by: 6\n",
            "Enter a number to divide by: 4\n",
            "Result: 1.5\n"
          ]
        }
      ]
    },
    {
      "cell_type": "markdown",
      "source": [
        "13. How would you check if a file exists before attempting to read it in Python\n"
      ],
      "metadata": {
        "id": "Gz0GJkqaiVi8"
      }
    },
    {
      "cell_type": "code",
      "source": [
        "import os\n",
        "os.path.exists(\"file_8.txt\")"
      ],
      "metadata": {
        "colab": {
          "base_uri": "https://localhost:8080/"
        },
        "id": "O_gydFP3BCKM",
        "outputId": "659071ef-5f28-4251-c1f5-515327fc20ae"
      },
      "execution_count": 46,
      "outputs": [
        {
          "output_type": "execute_result",
          "data": {
            "text/plain": [
              "False"
            ]
          },
          "metadata": {},
          "execution_count": 46
        }
      ]
    },
    {
      "cell_type": "markdown",
      "source": [
        "14. Write a program that uses the logging module to log both informational and error messages."
      ],
      "metadata": {
        "id": "rHUeHfzLiXRr"
      }
    },
    {
      "cell_type": "code",
      "source": [
        "import logging\n",
        "\n",
        "# Configure the basic logging setup\n",
        "logging.basicConfig(filename=\"newfile.log\",format='%(asctime)s - %(levelname)s - %(message)s')\n",
        "\n",
        "logging.info(\"Application started successfully.\")\n",
        "logging.error(\"Failed to connect to the database.\")\n"
      ],
      "metadata": {
        "colab": {
          "base_uri": "https://localhost:8080/"
        },
        "id": "DPqLeqfyOYPS",
        "outputId": "54603918-f3ed-4ff5-cd77-6139d15f433e"
      },
      "execution_count": 47,
      "outputs": [
        {
          "output_type": "stream",
          "name": "stderr",
          "text": [
            "ERROR:root:Failed to connect to the database.\n"
          ]
        }
      ]
    },
    {
      "cell_type": "markdown",
      "source": [
        "15. Write a Python program that prints the content of a file and handles the case when the file is empty."
      ],
      "metadata": {
        "id": "_CQSE3x8iZCs"
      }
    },
    {
      "cell_type": "code",
      "source": [
        "with open (\"file_3.txt\",\"w\") as f:\n",
        "  pass\n",
        "try:\n",
        "  with open (\"file_3.txt\",\"r\") as f:\n",
        "    content=f.read()\n",
        "    print(content)\n",
        "    if not content:\n",
        "      print(\"File is empty\")\n",
        "except FileNotFoundError as e:\n",
        "   print(\"Not found\",e)\n",
        "except Exception as e:\n",
        "  print(\"Error\",e)"
      ],
      "metadata": {
        "colab": {
          "base_uri": "https://localhost:8080/"
        },
        "id": "-ec7LtpXUjZ-",
        "outputId": "66e4140a-d0e5-49ab-bc37-b1a93e3c0e5d"
      },
      "execution_count": 80,
      "outputs": [
        {
          "output_type": "stream",
          "name": "stdout",
          "text": [
            "\n",
            "File is empty\n"
          ]
        }
      ]
    },
    {
      "cell_type": "markdown",
      "source": [
        "16. Demonstrate how to use memory profiling to check the memory usage of a small program  \n"
      ],
      "metadata": {
        "id": "oZQzU6jjibJr"
      }
    },
    {
      "cell_type": "markdown",
      "source": [
        "17. Write a Python program to create and write a list of numbers to a file, one number per line"
      ],
      "metadata": {
        "id": "osPMp_Sk9YaY"
      }
    },
    {
      "cell_type": "code",
      "source": [
        "L = [1,2,3,4,5]\n",
        "\n",
        "with open ('my_file.txt', 'w') as f:\n",
        "  for i in L:\n",
        "    f.writelines(str(i)+'\\n')\n",
        "\n",
        "with open ('my_file.txt', 'r') as f:\n",
        "  numbers=f.read\n",
        "  print(numbers)\n",
        "\n",
        "\n"
      ],
      "metadata": {
        "colab": {
          "base_uri": "https://localhost:8080/"
        },
        "id": "Nb517EV_W2QF",
        "outputId": "7357e618-9eaf-4620-8230-d5275d0126ba"
      },
      "execution_count": 49,
      "outputs": [
        {
          "output_type": "stream",
          "name": "stdout",
          "text": [
            "<built-in method read of _io.TextIOWrapper object at 0x7e18590dc520>\n"
          ]
        }
      ]
    },
    {
      "cell_type": "markdown",
      "source": [
        "18. How would you implement a basic logging setup that logs to a file with rotation after 1MB\n"
      ],
      "metadata": {
        "id": "Qxsi5VZC9aoP"
      }
    },
    {
      "cell_type": "code",
      "source": [],
      "metadata": {
        "id": "22Uv_3043ZI9"
      },
      "execution_count": 49,
      "outputs": []
    },
    {
      "cell_type": "markdown",
      "source": [
        "19. Write a program that handles both IndexError and KeyError using a try-except block\n"
      ],
      "metadata": {
        "id": "BfmFC4Ep9cRW"
      }
    },
    {
      "cell_type": "code",
      "source": [
        "l1=[\"hello\",5,82,\"python\", True]\n",
        "d1={\"city\":\"lucknow\",\"country\":\"India\" , \"course\" :\"DA\"}\n",
        "\n",
        "try:\n",
        "  print(l1[2])\n",
        "  print(d1[\"name\"])\n",
        "except IndexError as e:\n",
        "  print(\"Index Error\",e)\n",
        "except KeyError as e:\n",
        "  print(\"Key Error\",e)"
      ],
      "metadata": {
        "colab": {
          "base_uri": "https://localhost:8080/"
        },
        "id": "eann2F4M3feY",
        "outputId": "54c4ba50-fdb6-408e-8134-3bb245aef573"
      },
      "execution_count": 50,
      "outputs": [
        {
          "output_type": "stream",
          "name": "stdout",
          "text": [
            "82\n",
            "Key Error 'name'\n"
          ]
        }
      ]
    },
    {
      "cell_type": "markdown",
      "source": [
        "20. How would you open a file and read its contents using a context manager in Python.\n"
      ],
      "metadata": {
        "id": "DNebjro19d-J"
      }
    },
    {
      "cell_type": "code",
      "source": [
        "with open (\"file_4.txt\",'w') as f1:\n",
        "  f1.write(\"data refers to raw, unorganized facts and figures, such as numbers, words, measurements, observations, or descriptions of things.\\n\" \"It's the basic building block of information and can be processed to create meaningful insights.\\n\" \"data can exist in various forms, including text, numbers, images, and sounds.\")\n",
        "try:\n",
        "  with open (\"file_4.txt\",'r') as f1:\n",
        "   content = f1.read()\n",
        "   print(\"File content (entire file):\")\n",
        "   print(content)\n",
        "except FileNotFoundError:\n",
        "    print(\"Error: The file 'sample.txt' was not found.\")\n",
        "except Exception as e:\n",
        "    print(f\"An error occurred: {e}\")"
      ],
      "metadata": {
        "colab": {
          "base_uri": "https://localhost:8080/"
        },
        "id": "0PUHMjwtEjR4",
        "outputId": "d42aa598-53d8-4af5-cef6-4f73dd3784fb"
      },
      "execution_count": 91,
      "outputs": [
        {
          "output_type": "stream",
          "name": "stdout",
          "text": [
            "File content (entire file):\n",
            "data refers to raw, unorganized facts and figures, such as numbers, words, measurements, observations, or descriptions of things.\n",
            "It's the basic building block of information and can be processed to create meaningful insights.\n",
            "data can exist in various forms, including text, numbers, images, and sounds.\n"
          ]
        }
      ]
    },
    {
      "cell_type": "markdown",
      "source": [
        "21. Write a Python program that reads a file and prints the number of occurrences of a specific word."
      ],
      "metadata": {
        "id": "fQibYpLk9frm"
      }
    },
    {
      "cell_type": "code",
      "source": [
        "with open (\"file_4.txt\",'w') as f1:\n",
        "  f1.write(\"data refers to raw, unorganized facts and figures, such as numbers, words, measurements, observations, or descriptions of things.\\n\" \"It's the basic building block of information and can be processed to create meaningful insights.\\n\" \"data can exist in various forms, including text, numbers, images, and sounds.\")\n",
        "try:\n",
        "  with open (\"my_file.txt\",\"r\") as f:\n",
        "    file=f.read()\n",
        "    count=0\n",
        "    for i in file:\n",
        "      if i==\"data\":\n",
        "        count+=1\n",
        "except FileNotFoundError as e:\n",
        "  print(\"Not found\",e)\n",
        "except Exception as e:\n",
        "  print(\"Error\",e)\n",
        "finally:\n",
        "  print(count)\n"
      ],
      "metadata": {
        "colab": {
          "base_uri": "https://localhost:8080/"
        },
        "id": "gnNA8iMYCmCC",
        "outputId": "c0b331e3-9c25-4fee-e59b-bf6d04ef1102"
      },
      "execution_count": 88,
      "outputs": [
        {
          "output_type": "stream",
          "name": "stdout",
          "text": [
            "0\n"
          ]
        }
      ]
    },
    {
      "cell_type": "markdown",
      "source": [
        "22. How can you check if a file is empty before attempting to read its contents\n"
      ],
      "metadata": {
        "id": "6kk83J3v9iAl"
      }
    },
    {
      "cell_type": "code",
      "source": [
        "with open (\"is_empty_file.txt\",\"w\") as f:\n",
        "  f.write(\"hello\")\n",
        "  pass\n",
        "\n",
        "import os\n",
        "file_size = \"is_empty_file.txt\"\n",
        "\n",
        "if os.path.getsize(file_size) == 0:\n",
        "    print(\"The file is empty.\")\n",
        "else:\n",
        "    print(\"The file is not empty.\")\n",
        "    print (os.path.getsize(file_size))"
      ],
      "metadata": {
        "colab": {
          "base_uri": "https://localhost:8080/"
        },
        "id": "6yIJJGNY7OYU",
        "outputId": "6931ed8f-6b0c-4274-908e-31dd4cad85dc"
      },
      "execution_count": 72,
      "outputs": [
        {
          "output_type": "stream",
          "name": "stdout",
          "text": [
            "The file is not empty.\n",
            "5\n"
          ]
        }
      ]
    },
    {
      "cell_type": "markdown",
      "source": [
        "23. Write a Python program that writes to a log file when an error occurs during file handling"
      ],
      "metadata": {
        "id": "wn3JG3Kh9jjT"
      }
    },
    {
      "cell_type": "code",
      "execution_count": 82,
      "metadata": {
        "id": "djRbrA8Veshn",
        "colab": {
          "base_uri": "https://localhost:8080/"
        },
        "outputId": "6f560304-0dad-426e-e671-648a99ada1fa"
      },
      "outputs": [
        {
          "output_type": "stream",
          "name": "stdout",
          "text": [
            "0\n"
          ]
        }
      ],
      "source": []
    }
  ]
}